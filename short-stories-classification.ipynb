{
 "cells": [
  {
   "cell_type": "markdown",
   "id": "75bd3c41",
   "metadata": {
    "papermill": {
     "duration": 0.014236,
     "end_time": "2022-09-06T14:29:27.887204",
     "exception": false,
     "start_time": "2022-09-06T14:29:27.872968",
     "status": "completed"
    },
    "tags": []
   },
   "source": [
    "## Importing "
   ]
  },
  {
   "cell_type": "code",
   "execution_count": 1,
   "id": "c684b1e1",
   "metadata": {
    "_cell_guid": "b1076dfc-b9ad-4769-8c92-a6c4dae69d19",
    "_uuid": "8f2839f25d086af736a60e9eeb907d3b93b6e0e5",
    "execution": {
     "iopub.execute_input": "2022-09-06T14:29:27.914795Z",
     "iopub.status.busy": "2022-09-06T14:29:27.914213Z",
     "iopub.status.idle": "2022-09-06T14:29:29.626451Z",
     "shell.execute_reply": "2022-09-06T14:29:29.625260Z"
    },
    "papermill": {
     "duration": 1.729663,
     "end_time": "2022-09-06T14:29:29.629735",
     "exception": false,
     "start_time": "2022-09-06T14:29:27.900072",
     "status": "completed"
    },
    "tags": []
   },
   "outputs": [],
   "source": [
    "import numpy as np \n",
    "import pandas as pd \n",
    "import string\n",
    "from nltk.corpus import stopwords\n",
    "from sklearn.model_selection import train_test_split\n",
    "from sklearn.feature_extraction.text import TfidfVectorizer\n",
    "from sklearn.ensemble import RandomForestClassifier\n",
    "# import os\n",
    "\n",
    "# For printing the path of dataset in Kaggle\n",
    "# for dirname, _, filenames in os.walk('/kaggle/input'):\n",
    "#     for filename in filenames:\n",
    "#         print(os.path.join(dirname, filename))\n"
   ]
  },
  {
   "cell_type": "markdown",
   "id": "b4c206d1",
   "metadata": {
    "papermill": {
     "duration": 0.012467,
     "end_time": "2022-09-06T14:29:29.657418",
     "exception": false,
     "start_time": "2022-09-06T14:29:29.644951",
     "status": "completed"
    },
    "tags": []
   },
   "source": [
    "## Reading the data set"
   ]
  },
  {
   "cell_type": "code",
   "execution_count": 2,
   "id": "05d5dd70",
   "metadata": {
    "execution": {
     "iopub.execute_input": "2022-09-06T14:29:29.685124Z",
     "iopub.status.busy": "2022-09-06T14:29:29.684355Z",
     "iopub.status.idle": "2022-09-06T14:29:30.721938Z",
     "shell.execute_reply": "2022-09-06T14:29:30.721047Z"
    },
    "papermill": {
     "duration": 1.054281,
     "end_time": "2022-09-06T14:29:30.724452",
     "exception": false,
     "start_time": "2022-09-06T14:29:29.670171",
     "status": "completed"
    },
    "tags": []
   },
   "outputs": [],
   "source": [
    "# stories = pd.read_csv('/kaggle/input/stories-combined/stories_combined.csv')\n",
    "stories = pd.read_csv('files/stories_combined.csv')\n",
    "stories.drop('Unnamed: 0', axis=1, inplace=True)"
   ]
  },
  {
   "cell_type": "code",
   "execution_count": 3,
   "id": "09363d24",
   "metadata": {
    "execution": {
     "iopub.execute_input": "2022-09-06T14:29:30.752909Z",
     "iopub.status.busy": "2022-09-06T14:29:30.752252Z",
     "iopub.status.idle": "2022-09-06T14:29:30.780003Z",
     "shell.execute_reply": "2022-09-06T14:29:30.778786Z"
    },
    "papermill": {
     "duration": 0.044852,
     "end_time": "2022-09-06T14:29:30.782377",
     "exception": false,
     "start_time": "2022-09-06T14:29:30.737525",
     "status": "completed"
    },
    "tags": []
   },
   "outputs": [
    {
     "data": {
      "text/html": [
       "<div>\n",
       "<style scoped>\n",
       "    .dataframe tbody tr th:only-of-type {\n",
       "        vertical-align: middle;\n",
       "    }\n",
       "\n",
       "    .dataframe tbody tr th {\n",
       "        vertical-align: top;\n",
       "    }\n",
       "\n",
       "    .dataframe thead th {\n",
       "        text-align: right;\n",
       "    }\n",
       "</style>\n",
       "<table border=\"1\" class=\"dataframe\">\n",
       "  <thead>\n",
       "    <tr style=\"text-align: right;\">\n",
       "      <th></th>\n",
       "      <th>bookno</th>\n",
       "      <th>content</th>\n",
       "      <th>Title</th>\n",
       "      <th>Author</th>\n",
       "      <th>Language</th>\n",
       "      <th>Category</th>\n",
       "    </tr>\n",
       "  </thead>\n",
       "  <tbody>\n",
       "    <tr>\n",
       "      <th>0</th>\n",
       "      <td>51082.txt</td>\n",
       "      <td>*** START OF THIS PROJECT GUTENBERG EBOOK COMI...</td>\n",
       "      <td>Coming Attraction</td>\n",
       "      <td>Fritz Leiber</td>\n",
       "      <td>English</td>\n",
       "      <td>Science Fiction</td>\n",
       "    </tr>\n",
       "    <tr>\n",
       "      <th>1</th>\n",
       "      <td>32243.txt</td>\n",
       "      <td>*** START OF THIS PROJECT GUTENBERG EBOOK CONF...</td>\n",
       "      <td>Confidence Game</td>\n",
       "      <td>James McKimmey</td>\n",
       "      <td>English</td>\n",
       "      <td>Science Fiction</td>\n",
       "    </tr>\n",
       "    <tr>\n",
       "      <th>2</th>\n",
       "      <td>306-0.txt</td>\n",
       "      <td>*** START OF THIS PROJECT GUTENBERG EBOOK EARL...</td>\n",
       "      <td>The Early Short Fiction of Edith Wharton, Par...</td>\n",
       "      <td>Edith Wharton</td>\n",
       "      <td>English</td>\n",
       "      <td>Fiction</td>\n",
       "    </tr>\n",
       "    <tr>\n",
       "      <th>3</th>\n",
       "      <td>31038.txt</td>\n",
       "      <td>*** START OF THIS PROJECT GUTENBERG EBOOK THE ...</td>\n",
       "      <td>The Real Hard Sell</td>\n",
       "      <td>William W Stuart</td>\n",
       "      <td>English</td>\n",
       "      <td>Science Fiction</td>\n",
       "    </tr>\n",
       "    <tr>\n",
       "      <th>4</th>\n",
       "      <td>28636-8.txt</td>\n",
       "      <td>*** START OF THIS PROJECT GUTENBERG EBOOK THE ...</td>\n",
       "      <td>The Grey Woman and other Tales</td>\n",
       "      <td>Mrs. (Elizabeth) Gaskell</td>\n",
       "      <td>English</td>\n",
       "      <td>Fiction</td>\n",
       "    </tr>\n",
       "  </tbody>\n",
       "</table>\n",
       "</div>"
      ],
      "text/plain": [
       "        bookno                                            content  \\\n",
       "0    51082.txt  *** START OF THIS PROJECT GUTENBERG EBOOK COMI...   \n",
       "1    32243.txt  *** START OF THIS PROJECT GUTENBERG EBOOK CONF...   \n",
       "2    306-0.txt  *** START OF THIS PROJECT GUTENBERG EBOOK EARL...   \n",
       "3    31038.txt  *** START OF THIS PROJECT GUTENBERG EBOOK THE ...   \n",
       "4  28636-8.txt  *** START OF THIS PROJECT GUTENBERG EBOOK THE ...   \n",
       "\n",
       "                                               Title  \\\n",
       "0                                  Coming Attraction   \n",
       "1                                    Confidence Game   \n",
       "2   The Early Short Fiction of Edith Wharton, Par...   \n",
       "3                                 The Real Hard Sell   \n",
       "4                     The Grey Woman and other Tales   \n",
       "\n",
       "                      Author  Language         Category  \n",
       "0               Fritz Leiber   English  Science Fiction  \n",
       "1             James McKimmey   English  Science Fiction  \n",
       "2              Edith Wharton   English          Fiction  \n",
       "3           William W Stuart   English  Science Fiction  \n",
       "4   Mrs. (Elizabeth) Gaskell   English          Fiction  "
      ]
     },
     "execution_count": 3,
     "metadata": {},
     "output_type": "execute_result"
    }
   ],
   "source": [
    "stories.head()"
   ]
  },
  {
   "cell_type": "code",
   "execution_count": 4,
   "id": "7631f675",
   "metadata": {
    "execution": {
     "iopub.execute_input": "2022-09-06T14:29:30.811297Z",
     "iopub.status.busy": "2022-09-06T14:29:30.810869Z",
     "iopub.status.idle": "2022-09-06T14:29:30.822579Z",
     "shell.execute_reply": "2022-09-06T14:29:30.821478Z"
    },
    "papermill": {
     "duration": 0.028899,
     "end_time": "2022-09-06T14:29:30.824865",
     "exception": false,
     "start_time": "2022-09-06T14:29:30.795966",
     "status": "completed"
    },
    "tags": []
   },
   "outputs": [
    {
     "data": {
      "text/plain": [
       "Science Fiction        54\n",
       "Fiction                25\n",
       "Classics               18\n",
       "Literature             10\n",
       "Historical Fiction      4\n",
       "Literary fiction        2\n",
       "Horror                  2\n",
       "Sociology Fiction       2\n",
       "Classical Fiction       2\n",
       "Childrens Fiction       1\n",
       "Romance Literature      1\n",
       "Love Fiction            1\n",
       "Fantasy Fiction         1\n",
       "Political Fiction       1\n",
       "Villages Fiction        1\n",
       "Fairy Tales             1\n",
       "Detective Fiction       1\n",
       "Science fiction         1\n",
       "Fantasy                 1\n",
       "Name: Category, dtype: int64"
      ]
     },
     "execution_count": 4,
     "metadata": {},
     "output_type": "execute_result"
    }
   ],
   "source": [
    "stories['Category'].value_counts()"
   ]
  },
  {
   "cell_type": "code",
   "execution_count": 5,
   "id": "31de5ceb",
   "metadata": {
    "execution": {
     "iopub.execute_input": "2022-09-06T14:29:30.853372Z",
     "iopub.status.busy": "2022-09-06T14:29:30.852949Z",
     "iopub.status.idle": "2022-09-06T14:29:30.936352Z",
     "shell.execute_reply": "2022-09-06T14:29:30.935131Z"
    },
    "papermill": {
     "duration": 0.100839,
     "end_time": "2022-09-06T14:29:30.939106",
     "exception": false,
     "start_time": "2022-09-06T14:29:30.838267",
     "status": "completed"
    },
    "tags": []
   },
   "outputs": [],
   "source": [
    "stories['content'] = stories['content'].apply(lambda x: x.lower())"
   ]
  },
  {
   "cell_type": "markdown",
   "id": "7137f8a2",
   "metadata": {
    "papermill": {
     "duration": 0.013023,
     "end_time": "2022-09-06T14:29:30.965551",
     "exception": false,
     "start_time": "2022-09-06T14:29:30.952528",
     "status": "completed"
    },
    "tags": []
   },
   "source": [
    "## Cleaning the data."
   ]
  },
  {
   "cell_type": "markdown",
   "id": "ae6f6fcd",
   "metadata": {
    "papermill": {
     "duration": 0.012968,
     "end_time": "2022-09-06T14:29:30.991988",
     "exception": false,
     "start_time": "2022-09-06T14:29:30.979020",
     "status": "completed"
    },
    "tags": []
   },
   "source": [
    "### Removing the stopwords and punctuations."
   ]
  },
  {
   "cell_type": "code",
   "execution_count": 6,
   "id": "1d9b7827",
   "metadata": {
    "execution": {
     "iopub.execute_input": "2022-09-06T14:29:31.021273Z",
     "iopub.status.busy": "2022-09-06T14:29:31.020087Z",
     "iopub.status.idle": "2022-09-06T14:29:50.579040Z",
     "shell.execute_reply": "2022-09-06T14:29:50.577844Z"
    },
    "papermill": {
     "duration": 19.576295,
     "end_time": "2022-09-06T14:29:50.581742",
     "exception": false,
     "start_time": "2022-09-06T14:29:31.005447",
     "status": "completed"
    },
    "tags": []
   },
   "outputs": [],
   "source": [
    "my_stop_words = stopwords.words('english')\n",
    "my_stop_words.extend([\"gutenberg\", \"ebook\", \"online\", \"distributed\", \"transcriber\", \"etext\", \"note\", \"copyright\", \"start\",\n",
    "            \"project\", \"end\", \"produced\", \"proofreading\", \"team\", \"http\", \"www\", \"pgdp\", \"net\", \"illustrated\", ])\n",
    "def text_cleaning(a):\n",
    "    remove_punctuation = [char for char in a if char not in string.punctuation]\n",
    "    remove_punctuation = ''.join(remove_punctuation)\n",
    "    return [word for word in remove_punctuation.split() if word.lower() not in my_stop_words]\n",
    "    \n",
    "stories['content'] = stories['content'].apply(text_cleaning)\n",
    "stories['content'] = stories['content'].apply(lambda x:\" \".join(x))"
   ]
  },
  {
   "cell_type": "code",
   "execution_count": 7,
   "id": "34d8ac68",
   "metadata": {
    "execution": {
     "iopub.execute_input": "2022-09-06T14:29:50.610848Z",
     "iopub.status.busy": "2022-09-06T14:29:50.610103Z",
     "iopub.status.idle": "2022-09-06T14:29:50.635644Z",
     "shell.execute_reply": "2022-09-06T14:29:50.634821Z"
    },
    "papermill": {
     "duration": 0.04244,
     "end_time": "2022-09-06T14:29:50.637670",
     "exception": false,
     "start_time": "2022-09-06T14:29:50.595230",
     "status": "completed"
    },
    "tags": []
   },
   "outputs": [
    {
     "data": {
      "text/html": [
       "<div>\n",
       "<style scoped>\n",
       "    .dataframe tbody tr th:only-of-type {\n",
       "        vertical-align: middle;\n",
       "    }\n",
       "\n",
       "    .dataframe tbody tr th {\n",
       "        vertical-align: top;\n",
       "    }\n",
       "\n",
       "    .dataframe thead th {\n",
       "        text-align: right;\n",
       "    }\n",
       "</style>\n",
       "<table border=\"1\" class=\"dataframe\">\n",
       "  <thead>\n",
       "    <tr style=\"text-align: right;\">\n",
       "      <th></th>\n",
       "      <th>bookno</th>\n",
       "      <th>content</th>\n",
       "      <th>Title</th>\n",
       "      <th>Author</th>\n",
       "      <th>Language</th>\n",
       "      <th>Category</th>\n",
       "    </tr>\n",
       "  </thead>\n",
       "  <tbody>\n",
       "    <tr>\n",
       "      <th>0</th>\n",
       "      <td>51082.txt</td>\n",
       "      <td>coming attraction greg weeks mary meehan httpw...</td>\n",
       "      <td>Coming Attraction</td>\n",
       "      <td>Fritz Leiber</td>\n",
       "      <td>English</td>\n",
       "      <td>Science Fiction</td>\n",
       "    </tr>\n",
       "    <tr>\n",
       "      <th>1</th>\n",
       "      <td>32243.txt</td>\n",
       "      <td>confidence game greg weeks david wilson httpww...</td>\n",
       "      <td>Confidence Game</td>\n",
       "      <td>James McKimmey</td>\n",
       "      <td>English</td>\n",
       "      <td>Science Fiction</td>\n",
       "    </tr>\n",
       "    <tr>\n",
       "      <th>2</th>\n",
       "      <td>306-0.txt</td>\n",
       "      <td>early short fiction john hamm early short fict...</td>\n",
       "      <td>The Early Short Fiction of Edith Wharton, Par...</td>\n",
       "      <td>Edith Wharton</td>\n",
       "      <td>English</td>\n",
       "      <td>Fiction</td>\n",
       "    </tr>\n",
       "    <tr>\n",
       "      <th>3</th>\n",
       "      <td>31038.txt</td>\n",
       "      <td>real hard sell robert cicconetti david wilson ...</td>\n",
       "      <td>The Real Hard Sell</td>\n",
       "      <td>William W Stuart</td>\n",
       "      <td>English</td>\n",
       "      <td>Science Fiction</td>\n",
       "    </tr>\n",
       "    <tr>\n",
       "      <th>4</th>\n",
       "      <td>28636-8.txt</td>\n",
       "      <td>grey woman tales delphine lettau canada httpww...</td>\n",
       "      <td>The Grey Woman and other Tales</td>\n",
       "      <td>Mrs. (Elizabeth) Gaskell</td>\n",
       "      <td>English</td>\n",
       "      <td>Fiction</td>\n",
       "    </tr>\n",
       "    <tr>\n",
       "      <th>...</th>\n",
       "      <td>...</td>\n",
       "      <td>...</td>\n",
       "      <td>...</td>\n",
       "      <td>...</td>\n",
       "      <td>...</td>\n",
       "      <td>...</td>\n",
       "    </tr>\n",
       "    <tr>\n",
       "      <th>124</th>\n",
       "      <td>7114-8.txt</td>\n",
       "      <td>une vie piece string thomas berger eric eldred...</td>\n",
       "      <td>Une Vie, A Piece of String and Other Stories</td>\n",
       "      <td>Guy de Maupassant</td>\n",
       "      <td>English</td>\n",
       "      <td>Fiction</td>\n",
       "    </tr>\n",
       "    <tr>\n",
       "      <th>125</th>\n",
       "      <td>3077-0.txt</td>\n",
       "      <td>maupassant short stories david widger original...</td>\n",
       "      <td>Original Short Stories of Maupassant, Volume 1</td>\n",
       "      <td>Guy de Maupassant</td>\n",
       "      <td>English</td>\n",
       "      <td>Fiction</td>\n",
       "    </tr>\n",
       "    <tr>\n",
       "      <th>126</th>\n",
       "      <td>1096.txt</td>\n",
       "      <td>faith men jack london 2734 series jack london ...</td>\n",
       "      <td>The Faith of Men</td>\n",
       "      <td>Jack London</td>\n",
       "      <td>English</td>\n",
       "      <td>Fiction</td>\n",
       "    </tr>\n",
       "    <tr>\n",
       "      <th>127</th>\n",
       "      <td>59157.txt</td>\n",
       "      <td>escape mechanism greg weeks mary meehan httpww...</td>\n",
       "      <td>Escape Mechanism</td>\n",
       "      <td>Charles E. Fritch</td>\n",
       "      <td>English</td>\n",
       "      <td>Science Fiction</td>\n",
       "    </tr>\n",
       "    <tr>\n",
       "      <th>128</th>\n",
       "      <td>12336-8.txt</td>\n",
       "      <td>brown wolf jack pg proofreaders brown wolf ill...</td>\n",
       "      <td>Brown Wolf and Other Jack London Stories</td>\n",
       "      <td>Jack London</td>\n",
       "      <td>English</td>\n",
       "      <td>Fiction</td>\n",
       "    </tr>\n",
       "  </tbody>\n",
       "</table>\n",
       "<p>129 rows × 6 columns</p>\n",
       "</div>"
      ],
      "text/plain": [
       "          bookno                                            content  \\\n",
       "0      51082.txt  coming attraction greg weeks mary meehan httpw...   \n",
       "1      32243.txt  confidence game greg weeks david wilson httpww...   \n",
       "2      306-0.txt  early short fiction john hamm early short fict...   \n",
       "3      31038.txt  real hard sell robert cicconetti david wilson ...   \n",
       "4    28636-8.txt  grey woman tales delphine lettau canada httpww...   \n",
       "..           ...                                                ...   \n",
       "124   7114-8.txt  une vie piece string thomas berger eric eldred...   \n",
       "125   3077-0.txt  maupassant short stories david widger original...   \n",
       "126     1096.txt  faith men jack london 2734 series jack london ...   \n",
       "127    59157.txt  escape mechanism greg weeks mary meehan httpww...   \n",
       "128  12336-8.txt  brown wolf jack pg proofreaders brown wolf ill...   \n",
       "\n",
       "                                                 Title  \\\n",
       "0                                    Coming Attraction   \n",
       "1                                      Confidence Game   \n",
       "2     The Early Short Fiction of Edith Wharton, Par...   \n",
       "3                                   The Real Hard Sell   \n",
       "4                       The Grey Woman and other Tales   \n",
       "..                                                 ...   \n",
       "124       Une Vie, A Piece of String and Other Stories   \n",
       "125     Original Short Stories of Maupassant, Volume 1   \n",
       "126                                   The Faith of Men   \n",
       "127                                   Escape Mechanism   \n",
       "128           Brown Wolf and Other Jack London Stories   \n",
       "\n",
       "                        Author  Language         Category  \n",
       "0                 Fritz Leiber   English  Science Fiction  \n",
       "1               James McKimmey   English  Science Fiction  \n",
       "2                Edith Wharton   English          Fiction  \n",
       "3             William W Stuart   English  Science Fiction  \n",
       "4     Mrs. (Elizabeth) Gaskell   English          Fiction  \n",
       "..                         ...       ...              ...  \n",
       "124          Guy de Maupassant   English          Fiction  \n",
       "125          Guy de Maupassant   English          Fiction  \n",
       "126                Jack London   English          Fiction  \n",
       "127          Charles E. Fritch   English  Science Fiction  \n",
       "128                Jack London   English          Fiction  \n",
       "\n",
       "[129 rows x 6 columns]"
      ]
     },
     "execution_count": 7,
     "metadata": {},
     "output_type": "execute_result"
    }
   ],
   "source": [
    "stories"
   ]
  },
  {
   "cell_type": "code",
   "execution_count": 8,
   "id": "06c6e615",
   "metadata": {
    "execution": {
     "iopub.execute_input": "2022-09-06T14:29:50.666575Z",
     "iopub.status.busy": "2022-09-06T14:29:50.666149Z",
     "iopub.status.idle": "2022-09-06T14:29:50.671626Z",
     "shell.execute_reply": "2022-09-06T14:29:50.670528Z"
    },
    "papermill": {
     "duration": 0.022366,
     "end_time": "2022-09-06T14:29:50.673771",
     "exception": false,
     "start_time": "2022-09-06T14:29:50.651405",
     "status": "completed"
    },
    "tags": []
   },
   "outputs": [],
   "source": [
    "X = stories.iloc[:,1:2]\n",
    "y = stories['Category']"
   ]
  },
  {
   "cell_type": "code",
   "execution_count": 9,
   "id": "dc96b5ee",
   "metadata": {
    "execution": {
     "iopub.execute_input": "2022-09-06T14:29:50.702921Z",
     "iopub.status.busy": "2022-09-06T14:29:50.702229Z",
     "iopub.status.idle": "2022-09-06T14:29:50.723284Z",
     "shell.execute_reply": "2022-09-06T14:29:50.722221Z"
    },
    "papermill": {
     "duration": 0.038368,
     "end_time": "2022-09-06T14:29:50.725690",
     "exception": false,
     "start_time": "2022-09-06T14:29:50.687322",
     "status": "completed"
    },
    "tags": []
   },
   "outputs": [
    {
     "data": {
      "text/html": [
       "<div>\n",
       "<style scoped>\n",
       "    .dataframe tbody tr th:only-of-type {\n",
       "        vertical-align: middle;\n",
       "    }\n",
       "\n",
       "    .dataframe tbody tr th {\n",
       "        vertical-align: top;\n",
       "    }\n",
       "\n",
       "    .dataframe thead th {\n",
       "        text-align: right;\n",
       "    }\n",
       "</style>\n",
       "<table border=\"1\" class=\"dataframe\">\n",
       "  <thead>\n",
       "    <tr style=\"text-align: right;\">\n",
       "      <th></th>\n",
       "      <th>content</th>\n",
       "    </tr>\n",
       "  </thead>\n",
       "  <tbody>\n",
       "    <tr>\n",
       "      <th>0</th>\n",
       "      <td>coming attraction greg weeks mary meehan httpw...</td>\n",
       "    </tr>\n",
       "    <tr>\n",
       "      <th>1</th>\n",
       "      <td>confidence game greg weeks david wilson httpww...</td>\n",
       "    </tr>\n",
       "    <tr>\n",
       "      <th>2</th>\n",
       "      <td>early short fiction john hamm early short fict...</td>\n",
       "    </tr>\n",
       "    <tr>\n",
       "      <th>3</th>\n",
       "      <td>real hard sell robert cicconetti david wilson ...</td>\n",
       "    </tr>\n",
       "    <tr>\n",
       "      <th>4</th>\n",
       "      <td>grey woman tales delphine lettau canada httpww...</td>\n",
       "    </tr>\n",
       "    <tr>\n",
       "      <th>...</th>\n",
       "      <td>...</td>\n",
       "    </tr>\n",
       "    <tr>\n",
       "      <th>124</th>\n",
       "      <td>une vie piece string thomas berger eric eldred...</td>\n",
       "    </tr>\n",
       "    <tr>\n",
       "      <th>125</th>\n",
       "      <td>maupassant short stories david widger original...</td>\n",
       "    </tr>\n",
       "    <tr>\n",
       "      <th>126</th>\n",
       "      <td>faith men jack london 2734 series jack london ...</td>\n",
       "    </tr>\n",
       "    <tr>\n",
       "      <th>127</th>\n",
       "      <td>escape mechanism greg weeks mary meehan httpww...</td>\n",
       "    </tr>\n",
       "    <tr>\n",
       "      <th>128</th>\n",
       "      <td>brown wolf jack pg proofreaders brown wolf ill...</td>\n",
       "    </tr>\n",
       "  </tbody>\n",
       "</table>\n",
       "<p>129 rows × 1 columns</p>\n",
       "</div>"
      ],
      "text/plain": [
       "                                               content\n",
       "0    coming attraction greg weeks mary meehan httpw...\n",
       "1    confidence game greg weeks david wilson httpww...\n",
       "2    early short fiction john hamm early short fict...\n",
       "3    real hard sell robert cicconetti david wilson ...\n",
       "4    grey woman tales delphine lettau canada httpww...\n",
       "..                                                 ...\n",
       "124  une vie piece string thomas berger eric eldred...\n",
       "125  maupassant short stories david widger original...\n",
       "126  faith men jack london 2734 series jack london ...\n",
       "127  escape mechanism greg weeks mary meehan httpww...\n",
       "128  brown wolf jack pg proofreaders brown wolf ill...\n",
       "\n",
       "[129 rows x 1 columns]"
      ]
     },
     "execution_count": 9,
     "metadata": {},
     "output_type": "execute_result"
    }
   ],
   "source": [
    "X"
   ]
  },
  {
   "cell_type": "code",
   "execution_count": 10,
   "id": "3d00ed8c",
   "metadata": {
    "execution": {
     "iopub.execute_input": "2022-09-06T14:29:50.754902Z",
     "iopub.status.busy": "2022-09-06T14:29:50.754114Z",
     "iopub.status.idle": "2022-09-06T14:29:50.762090Z",
     "shell.execute_reply": "2022-09-06T14:29:50.761254Z"
    },
    "papermill": {
     "duration": 0.024952,
     "end_time": "2022-09-06T14:29:50.764290",
     "exception": false,
     "start_time": "2022-09-06T14:29:50.739338",
     "status": "completed"
    },
    "tags": []
   },
   "outputs": [
    {
     "data": {
      "text/plain": [
       "0      Science Fiction\n",
       "1      Science Fiction\n",
       "2              Fiction\n",
       "3      Science Fiction\n",
       "4              Fiction\n",
       "            ...       \n",
       "124            Fiction\n",
       "125            Fiction\n",
       "126            Fiction\n",
       "127    Science Fiction\n",
       "128            Fiction\n",
       "Name: Category, Length: 129, dtype: object"
      ]
     },
     "execution_count": 10,
     "metadata": {},
     "output_type": "execute_result"
    }
   ],
   "source": [
    "y\n"
   ]
  },
  {
   "cell_type": "markdown",
   "id": "d0b81595",
   "metadata": {
    "papermill": {
     "duration": 0.013338,
     "end_time": "2022-09-06T14:29:50.791205",
     "exception": false,
     "start_time": "2022-09-06T14:29:50.777867",
     "status": "completed"
    },
    "tags": []
   },
   "source": [
    "### Converting the categories into numeric format."
   ]
  },
  {
   "cell_type": "code",
   "execution_count": 11,
   "id": "8d8a5908",
   "metadata": {
    "execution": {
     "iopub.execute_input": "2022-09-06T14:29:50.820698Z",
     "iopub.status.busy": "2022-09-06T14:29:50.819932Z",
     "iopub.status.idle": "2022-09-06T14:29:50.825231Z",
     "shell.execute_reply": "2022-09-06T14:29:50.824505Z"
    },
    "papermill": {
     "duration": 0.022501,
     "end_time": "2022-09-06T14:29:50.827370",
     "exception": false,
     "start_time": "2022-09-06T14:29:50.804869",
     "status": "completed"
    },
    "tags": []
   },
   "outputs": [],
   "source": [
    "from sklearn.preprocessing import LabelEncoder\n",
    "\n",
    "encoder = LabelEncoder()\n",
    "\n",
    "y = encoder.fit_transform(y)"
   ]
  },
  {
   "cell_type": "code",
   "execution_count": 12,
   "id": "4bddb5aa",
   "metadata": {
    "execution": {
     "iopub.execute_input": "2022-09-06T14:29:50.856149Z",
     "iopub.status.busy": "2022-09-06T14:29:50.855751Z",
     "iopub.status.idle": "2022-09-06T14:29:50.862587Z",
     "shell.execute_reply": "2022-09-06T14:29:50.861507Z"
    },
    "papermill": {
     "duration": 0.023904,
     "end_time": "2022-09-06T14:29:50.864843",
     "exception": false,
     "start_time": "2022-09-06T14:29:50.840939",
     "status": "completed"
    },
    "tags": []
   },
   "outputs": [
    {
     "data": {
      "text/plain": [
       "array([15, 15,  7, 15,  7,  8, 15, 16,  2, 15, 15,  8, 15,  2, 15, 11, 15,\n",
       "        3, 15,  6,  0,  1, 14,  7, 15,  2, 15,  2, 11, 15, 15, 15, 11, 15,\n",
       "       15, 15,  2,  2, 15, 12, 17, 11, 13, 15, 15, 15, 17, 15, 18,  7,  4,\n",
       "       15, 15,  7, 15,  2, 15,  7,  2,  9, 11, 15,  7, 10,  5,  2,  7,  2,\n",
       "       15,  7, 15, 15, 15,  7,  7, 15,  7,  7, 11, 11,  7, 15, 15, 15, 15,\n",
       "        8, 15,  2,  7, 15, 15,  8,  2, 15,  2,  7,  2,  2, 15,  7, 11,  7,\n",
       "       15,  1, 15, 15,  2, 10,  7, 15, 15,  2,  9, 15,  2, 15, 15, 15, 15,\n",
       "        7,  7, 11, 11, 15,  7,  7,  7, 15,  7])"
      ]
     },
     "execution_count": 12,
     "metadata": {},
     "output_type": "execute_result"
    }
   ],
   "source": [
    "y"
   ]
  },
  {
   "cell_type": "code",
   "execution_count": 13,
   "id": "8e2fcfd2",
   "metadata": {
    "execution": {
     "iopub.execute_input": "2022-09-06T14:29:50.894372Z",
     "iopub.status.busy": "2022-09-06T14:29:50.893705Z",
     "iopub.status.idle": "2022-09-06T14:29:50.904299Z",
     "shell.execute_reply": "2022-09-06T14:29:50.902678Z"
    },
    "papermill": {
     "duration": 0.028218,
     "end_time": "2022-09-06T14:29:50.906814",
     "exception": false,
     "start_time": "2022-09-06T14:29:50.878596",
     "status": "completed"
    },
    "tags": []
   },
   "outputs": [
    {
     "name": "stdout",
     "output_type": "stream",
     "text": [
      "Number \t  Category\n",
      "15 \t- Science Fiction\n",
      "15 \t- Science Fiction\n",
      "7 \t- Fiction\n",
      "15 \t- Science Fiction\n",
      "7 \t- Fiction\n",
      "8 \t- Historical Fiction\n",
      "15 \t- Science Fiction\n",
      "16 \t- Science fiction\n",
      "2 \t- Classics\n",
      "15 \t- Science Fiction\n",
      "15 \t- Science Fiction\n",
      "8 \t- Historical Fiction\n",
      "15 \t- Science Fiction\n",
      "2 \t- Classics\n",
      "15 \t- Science Fiction\n",
      "11 \t- Literature\n",
      "15 \t- Science Fiction\n",
      "3 \t- Detective Fiction\n",
      "15 \t- Science Fiction\n",
      "6 \t- Fantasy Fiction\n",
      "0 \t- Childrens Fiction\n",
      "1 \t- Classical Fiction\n",
      "14 \t- Romance Literature \n",
      "7 \t- Fiction\n",
      "15 \t- Science Fiction\n",
      "2 \t- Classics\n",
      "15 \t- Science Fiction\n",
      "2 \t- Classics\n",
      "11 \t- Literature\n",
      "15 \t- Science Fiction\n",
      "15 \t- Science Fiction\n",
      "15 \t- Science Fiction\n",
      "11 \t- Literature\n",
      "15 \t- Science Fiction\n",
      "15 \t- Science Fiction\n",
      "15 \t- Science Fiction\n",
      "2 \t- Classics\n",
      "2 \t- Classics\n",
      "15 \t- Science Fiction\n",
      "12 \t- Love Fiction \n",
      "17 \t- Sociology Fiction\n",
      "11 \t- Literature\n",
      "13 \t- Political Fiction\n",
      "15 \t- Science Fiction\n",
      "15 \t- Science Fiction\n",
      "15 \t- Science Fiction\n",
      "17 \t- Sociology Fiction\n",
      "15 \t- Science Fiction\n",
      "18 \t- Villages Fiction\n",
      "7 \t- Fiction\n",
      "4 \t- Fairy Tales\n",
      "15 \t- Science Fiction\n",
      "15 \t- Science Fiction\n",
      "7 \t- Fiction\n",
      "15 \t- Science Fiction\n",
      "2 \t- Classics\n",
      "15 \t- Science Fiction\n",
      "7 \t- Fiction\n",
      "2 \t- Classics\n",
      "9 \t- Horror\n",
      "11 \t- Literature\n",
      "15 \t- Science Fiction\n",
      "7 \t- Fiction\n",
      "10 \t- Literary fiction\n",
      "5 \t- Fantasy \n",
      "2 \t- Classics\n",
      "7 \t- Fiction\n",
      "2 \t- Classics\n",
      "15 \t- Science Fiction\n",
      "7 \t- Fiction\n",
      "15 \t- Science Fiction\n",
      "15 \t- Science Fiction\n",
      "15 \t- Science Fiction\n",
      "7 \t- Fiction\n",
      "7 \t- Fiction\n",
      "15 \t- Science Fiction\n",
      "7 \t- Fiction\n",
      "7 \t- Fiction\n",
      "11 \t- Literature\n",
      "11 \t- Literature\n",
      "7 \t- Fiction\n",
      "15 \t- Science Fiction\n",
      "15 \t- Science Fiction\n",
      "15 \t- Science Fiction\n",
      "15 \t- Science Fiction\n",
      "8 \t- Historical Fiction\n",
      "15 \t- Science Fiction\n",
      "2 \t- Classics\n",
      "7 \t- Fiction\n",
      "15 \t- Science Fiction\n",
      "15 \t- Science Fiction\n",
      "8 \t- Historical Fiction\n",
      "2 \t- Classics\n",
      "15 \t- Science Fiction\n",
      "2 \t- Classics\n",
      "7 \t- Fiction\n",
      "2 \t- Classics\n",
      "2 \t- Classics\n",
      "15 \t- Science Fiction\n",
      "7 \t- Fiction\n",
      "11 \t- Literature\n",
      "7 \t- Fiction\n",
      "15 \t- Science Fiction\n",
      "1 \t- Classical Fiction\n",
      "15 \t- Science Fiction\n",
      "15 \t- Science Fiction\n",
      "2 \t- Classics\n",
      "10 \t- Literary fiction\n",
      "7 \t- Fiction\n",
      "15 \t- Science Fiction\n",
      "15 \t- Science Fiction\n",
      "2 \t- Classics\n",
      "9 \t- Horror\n",
      "15 \t- Science Fiction\n",
      "2 \t- Classics\n",
      "15 \t- Science Fiction\n",
      "15 \t- Science Fiction\n",
      "15 \t- Science Fiction\n",
      "15 \t- Science Fiction\n",
      "7 \t- Fiction\n",
      "7 \t- Fiction\n",
      "11 \t- Literature\n",
      "11 \t- Literature\n",
      "15 \t- Science Fiction\n",
      "7 \t- Fiction\n",
      "7 \t- Fiction\n",
      "7 \t- Fiction\n",
      "15 \t- Science Fiction\n",
      "7 \t- Fiction\n"
     ]
    }
   ],
   "source": [
    "j = 0\n",
    "print('Number','Category', sep=' \\t  ')\n",
    "for i in y:\n",
    "    print(i, stories['Category'].iloc[j], sep=' \\t- ')\n",
    "    j += 1"
   ]
  },
  {
   "cell_type": "markdown",
   "id": "757a0d9e",
   "metadata": {
    "papermill": {
     "duration": 0.01379,
     "end_time": "2022-09-06T14:29:50.934688",
     "exception": false,
     "start_time": "2022-09-06T14:29:50.920898",
     "status": "completed"
    },
    "tags": []
   },
   "source": [
    "## Splitting the dataset into test and train with 80:20 ratio."
   ]
  },
  {
   "cell_type": "code",
   "execution_count": 14,
   "id": "87c01b99",
   "metadata": {
    "execution": {
     "iopub.execute_input": "2022-09-06T14:29:50.964875Z",
     "iopub.status.busy": "2022-09-06T14:29:50.963736Z",
     "iopub.status.idle": "2022-09-06T14:29:50.970476Z",
     "shell.execute_reply": "2022-09-06T14:29:50.969668Z"
    },
    "papermill": {
     "duration": 0.023928,
     "end_time": "2022-09-06T14:29:50.972532",
     "exception": false,
     "start_time": "2022-09-06T14:29:50.948604",
     "status": "completed"
    },
    "tags": []
   },
   "outputs": [],
   "source": [
    "X_train,X_test,y_train,y_test = train_test_split(X,y,test_size=0.2,random_state=1)"
   ]
  },
  {
   "cell_type": "code",
   "execution_count": 15,
   "id": "34702d51",
   "metadata": {
    "execution": {
     "iopub.execute_input": "2022-09-06T14:29:51.002424Z",
     "iopub.status.busy": "2022-09-06T14:29:51.001804Z",
     "iopub.status.idle": "2022-09-06T14:29:51.008756Z",
     "shell.execute_reply": "2022-09-06T14:29:51.007799Z"
    },
    "papermill": {
     "duration": 0.024333,
     "end_time": "2022-09-06T14:29:51.010889",
     "exception": false,
     "start_time": "2022-09-06T14:29:50.986556",
     "status": "completed"
    },
    "tags": []
   },
   "outputs": [
    {
     "data": {
      "text/plain": [
       "(103, 1)"
      ]
     },
     "execution_count": 15,
     "metadata": {},
     "output_type": "execute_result"
    }
   ],
   "source": [
    "X_train.shape"
   ]
  },
  {
   "cell_type": "markdown",
   "id": "3c767b1e",
   "metadata": {
    "papermill": {
     "duration": 0.013818,
     "end_time": "2022-09-06T14:29:51.039146",
     "exception": false,
     "start_time": "2022-09-06T14:29:51.025328",
     "status": "completed"
    },
    "tags": []
   },
   "source": [
    "## Applying Bag of Words for classification using different algorithms."
   ]
  },
  {
   "cell_type": "code",
   "execution_count": 16,
   "id": "a1ed75b3",
   "metadata": {
    "execution": {
     "iopub.execute_input": "2022-09-06T14:29:51.071001Z",
     "iopub.status.busy": "2022-09-06T14:29:51.070281Z",
     "iopub.status.idle": "2022-09-06T14:29:51.074675Z",
     "shell.execute_reply": "2022-09-06T14:29:51.073723Z"
    },
    "papermill": {
     "duration": 0.02214,
     "end_time": "2022-09-06T14:29:51.076686",
     "exception": false,
     "start_time": "2022-09-06T14:29:51.054546",
     "status": "completed"
    },
    "tags": []
   },
   "outputs": [],
   "source": [
    "\n",
    "from sklearn.feature_extraction.text import CountVectorizer"
   ]
  },
  {
   "cell_type": "code",
   "execution_count": 17,
   "id": "bbb7c149",
   "metadata": {
    "execution": {
     "iopub.execute_input": "2022-09-06T14:29:51.107226Z",
     "iopub.status.busy": "2022-09-06T14:29:51.106793Z",
     "iopub.status.idle": "2022-09-06T14:29:51.111022Z",
     "shell.execute_reply": "2022-09-06T14:29:51.110234Z"
    },
    "papermill": {
     "duration": 0.022027,
     "end_time": "2022-09-06T14:29:51.113160",
     "exception": false,
     "start_time": "2022-09-06T14:29:51.091133",
     "status": "completed"
    },
    "tags": []
   },
   "outputs": [],
   "source": [
    "cv = CountVectorizer()"
   ]
  },
  {
   "cell_type": "code",
   "execution_count": 18,
   "id": "c2f3dce5",
   "metadata": {
    "execution": {
     "iopub.execute_input": "2022-09-06T14:29:51.143243Z",
     "iopub.status.busy": "2022-09-06T14:29:51.142797Z",
     "iopub.status.idle": "2022-09-06T14:29:54.307628Z",
     "shell.execute_reply": "2022-09-06T14:29:54.306477Z"
    },
    "papermill": {
     "duration": 3.182879,
     "end_time": "2022-09-06T14:29:54.310217",
     "exception": false,
     "start_time": "2022-09-06T14:29:51.127338",
     "status": "completed"
    },
    "tags": []
   },
   "outputs": [],
   "source": [
    "X_train_bow = cv.fit_transform(X_train['content']).toarray()\n",
    "X_test_bow = cv.transform(X_test['content']).toarray()"
   ]
  },
  {
   "cell_type": "code",
   "execution_count": 19,
   "id": "e593102d",
   "metadata": {
    "execution": {
     "iopub.execute_input": "2022-09-06T14:29:54.341371Z",
     "iopub.status.busy": "2022-09-06T14:29:54.340621Z",
     "iopub.status.idle": "2022-09-06T14:29:54.346594Z",
     "shell.execute_reply": "2022-09-06T14:29:54.345704Z"
    },
    "papermill": {
     "duration": 0.024018,
     "end_time": "2022-09-06T14:29:54.348610",
     "exception": false,
     "start_time": "2022-09-06T14:29:54.324592",
     "status": "completed"
    },
    "tags": []
   },
   "outputs": [
    {
     "data": {
      "text/plain": [
       "(103, 151410)"
      ]
     },
     "execution_count": 19,
     "metadata": {},
     "output_type": "execute_result"
    }
   ],
   "source": [
    "X_train_bow.shape"
   ]
  },
  {
   "cell_type": "markdown",
   "id": "77cba972",
   "metadata": {
    "papermill": {
     "duration": 0.01394,
     "end_time": "2022-09-06T14:29:54.376928",
     "exception": false,
     "start_time": "2022-09-06T14:29:54.362988",
     "status": "completed"
    },
    "tags": []
   },
   "source": [
    "## Using Gaussian Naive Bayes Algorithm."
   ]
  },
  {
   "cell_type": "code",
   "execution_count": 20,
   "id": "e435d643",
   "metadata": {
    "execution": {
     "iopub.execute_input": "2022-09-06T14:29:54.408927Z",
     "iopub.status.busy": "2022-09-06T14:29:54.408227Z",
     "iopub.status.idle": "2022-09-06T14:29:54.742919Z",
     "shell.execute_reply": "2022-09-06T14:29:54.741851Z"
    },
    "papermill": {
     "duration": 0.353969,
     "end_time": "2022-09-06T14:29:54.745202",
     "exception": false,
     "start_time": "2022-09-06T14:29:54.391233",
     "status": "completed"
    },
    "tags": []
   },
   "outputs": [
    {
     "data": {
      "text/plain": [
       "GaussianNB()"
      ]
     },
     "execution_count": 20,
     "metadata": {},
     "output_type": "execute_result"
    }
   ],
   "source": [
    "from sklearn.naive_bayes import GaussianNB\n",
    "gnb = GaussianNB()\n",
    "\n",
    "gnb.fit(X_train_bow,y_train)"
   ]
  },
  {
   "cell_type": "code",
   "execution_count": 21,
   "id": "fc20bd77",
   "metadata": {
    "execution": {
     "iopub.execute_input": "2022-09-06T14:29:54.775903Z",
     "iopub.status.busy": "2022-09-06T14:29:54.775103Z",
     "iopub.status.idle": "2022-09-06T14:29:55.378544Z",
     "shell.execute_reply": "2022-09-06T14:29:55.377367Z"
    },
    "papermill": {
     "duration": 0.62145,
     "end_time": "2022-09-06T14:29:55.381083",
     "exception": false,
     "start_time": "2022-09-06T14:29:54.759633",
     "status": "completed"
    },
    "tags": []
   },
   "outputs": [
    {
     "data": {
      "text/plain": [
       "0.3076923076923077"
      ]
     },
     "execution_count": 21,
     "metadata": {},
     "output_type": "execute_result"
    }
   ],
   "source": [
    "y_pred = gnb.predict(X_test_bow)\n",
    "\n",
    "from sklearn.metrics import accuracy_score,confusion_matrix\n",
    "accuracy_score(y_test,y_pred)"
   ]
  },
  {
   "cell_type": "markdown",
   "id": "29f332ad",
   "metadata": {
    "papermill": {
     "duration": 0.014157,
     "end_time": "2022-09-06T14:29:55.409811",
     "exception": false,
     "start_time": "2022-09-06T14:29:55.395654",
     "status": "completed"
    },
    "tags": []
   },
   "source": [
    "### As the accuracy is only 30% with Gaussian Naive Bayes. Trying with different algorithms."
   ]
  },
  {
   "cell_type": "code",
   "execution_count": 22,
   "id": "b7597336",
   "metadata": {
    "execution": {
     "iopub.execute_input": "2022-09-06T14:29:55.440848Z",
     "iopub.status.busy": "2022-09-06T14:29:55.440131Z",
     "iopub.status.idle": "2022-09-06T14:29:55.448555Z",
     "shell.execute_reply": "2022-09-06T14:29:55.447740Z"
    },
    "papermill": {
     "duration": 0.026239,
     "end_time": "2022-09-06T14:29:55.450560",
     "exception": false,
     "start_time": "2022-09-06T14:29:55.424321",
     "status": "completed"
    },
    "tags": []
   },
   "outputs": [
    {
     "data": {
      "text/plain": [
       "array([[0, 0, 1, 0, 0, 0, 0, 0, 0],\n",
       "       [0, 0, 2, 0, 0, 3, 0, 0, 0],\n",
       "       [0, 0, 3, 0, 0, 2, 0, 0, 0],\n",
       "       [0, 0, 0, 0, 0, 0, 0, 0, 0],\n",
       "       [0, 0, 0, 0, 0, 1, 0, 0, 0],\n",
       "       [0, 0, 0, 0, 0, 1, 0, 0, 0],\n",
       "       [0, 1, 4, 1, 0, 1, 4, 0, 0],\n",
       "       [0, 0, 0, 0, 0, 1, 0, 0, 0],\n",
       "       [0, 0, 0, 0, 0, 0, 1, 0, 0]])"
      ]
     },
     "execution_count": 22,
     "metadata": {},
     "output_type": "execute_result"
    }
   ],
   "source": [
    "confusion_matrix(y_test,y_pred)"
   ]
  },
  {
   "cell_type": "markdown",
   "id": "ddc9fc4b",
   "metadata": {
    "papermill": {
     "duration": 0.014235,
     "end_time": "2022-09-06T14:29:55.479482",
     "exception": false,
     "start_time": "2022-09-06T14:29:55.465247",
     "status": "completed"
    },
    "tags": []
   },
   "source": [
    "## Using Random Forest Classification Algorithm."
   ]
  },
  {
   "cell_type": "code",
   "execution_count": 23,
   "id": "b90977f1",
   "metadata": {
    "execution": {
     "iopub.execute_input": "2022-09-06T14:29:55.510711Z",
     "iopub.status.busy": "2022-09-06T14:29:55.509772Z",
     "iopub.status.idle": "2022-09-06T14:29:56.136399Z",
     "shell.execute_reply": "2022-09-06T14:29:56.135342Z"
    },
    "papermill": {
     "duration": 0.645444,
     "end_time": "2022-09-06T14:29:56.139511",
     "exception": false,
     "start_time": "2022-09-06T14:29:55.494067",
     "status": "completed"
    },
    "tags": []
   },
   "outputs": [
    {
     "data": {
      "text/plain": [
       "0.5"
      ]
     },
     "execution_count": 23,
     "metadata": {},
     "output_type": "execute_result"
    }
   ],
   "source": [
    "rf = RandomForestClassifier()\n",
    "\n",
    "rf.fit(X_train_bow,y_train)\n",
    "y_pred = rf.predict(X_test_bow)\n",
    "accuracy_score(y_test,y_pred)\n"
   ]
  },
  {
   "cell_type": "markdown",
   "id": "036e1df7",
   "metadata": {
    "papermill": {
     "duration": 0.014623,
     "end_time": "2022-09-06T14:29:56.169569",
     "exception": false,
     "start_time": "2022-09-06T14:29:56.154946",
     "status": "completed"
    },
    "tags": []
   },
   "source": [
    "### The accuracy is 50% with Random Forest."
   ]
  },
  {
   "cell_type": "markdown",
   "id": "ff3cf048",
   "metadata": {
    "papermill": {
     "duration": 0.014418,
     "end_time": "2022-09-06T14:29:56.199905",
     "exception": false,
     "start_time": "2022-09-06T14:29:56.185487",
     "status": "completed"
    },
    "tags": []
   },
   "source": [
    "## Using Random Forest Classification Algorithm with TF-IDF."
   ]
  },
  {
   "cell_type": "code",
   "execution_count": 24,
   "id": "045d71e5",
   "metadata": {
    "execution": {
     "iopub.execute_input": "2022-09-06T14:29:56.231433Z",
     "iopub.status.busy": "2022-09-06T14:29:56.230920Z",
     "iopub.status.idle": "2022-09-06T14:29:59.435615Z",
     "shell.execute_reply": "2022-09-06T14:29:59.434605Z"
    },
    "papermill": {
     "duration": 3.223693,
     "end_time": "2022-09-06T14:29:59.438290",
     "exception": false,
     "start_time": "2022-09-06T14:29:56.214597",
     "status": "completed"
    },
    "tags": []
   },
   "outputs": [],
   "source": [
    "tfidf = TfidfVectorizer()\n",
    "X_train_tfidf = tfidf.fit_transform(X_train['content']).toarray()\n",
    "X_test_tfidf = tfidf.transform(X_test['content'])"
   ]
  },
  {
   "cell_type": "code",
   "execution_count": 25,
   "id": "3b7101ac",
   "metadata": {
    "execution": {
     "iopub.execute_input": "2022-09-06T14:29:59.470445Z",
     "iopub.status.busy": "2022-09-06T14:29:59.470030Z",
     "iopub.status.idle": "2022-09-06T14:30:00.148474Z",
     "shell.execute_reply": "2022-09-06T14:30:00.147404Z"
    },
    "papermill": {
     "duration": 0.697331,
     "end_time": "2022-09-06T14:30:00.150691",
     "exception": false,
     "start_time": "2022-09-06T14:29:59.453360",
     "status": "completed"
    },
    "tags": []
   },
   "outputs": [
    {
     "data": {
      "text/plain": [
       "0.5"
      ]
     },
     "execution_count": 25,
     "metadata": {},
     "output_type": "execute_result"
    }
   ],
   "source": [
    "rf = RandomForestClassifier()\n",
    "\n",
    "rf.fit(X_train_tfidf,y_train)\n",
    "y_pred = rf.predict(X_test_tfidf)\n",
    "\n",
    "accuracy_score(y_test,y_pred)"
   ]
  },
  {
   "cell_type": "markdown",
   "id": "aac248c1",
   "metadata": {
    "papermill": {
     "duration": 0.014715,
     "end_time": "2022-09-06T14:30:00.180382",
     "exception": false,
     "start_time": "2022-09-06T14:30:00.165667",
     "status": "completed"
    },
    "tags": []
   },
   "source": [
    "### The accuracy is 53% with Random Forest and TF-IDF."
   ]
  },
  {
   "cell_type": "markdown",
   "id": "42d3ea2f",
   "metadata": {
    "papermill": {
     "duration": 0.014521,
     "end_time": "2022-09-06T14:30:00.209763",
     "exception": false,
     "start_time": "2022-09-06T14:30:00.195242",
     "status": "completed"
    },
    "tags": []
   },
   "source": [
    "#### The dataset has only few stories, hence the accuracy is 53%. With increase in the stories to train the model the accuracy might increase."
   ]
  },
  {
   "cell_type": "markdown",
   "id": "612fa41f",
   "metadata": {
    "papermill": {
     "duration": 0.014471,
     "end_time": "2022-09-06T14:30:00.239143",
     "exception": false,
     "start_time": "2022-09-06T14:30:00.224672",
     "status": "completed"
    },
    "tags": []
   },
   "source": [
    "## Prediction of a story"
   ]
  },
  {
   "cell_type": "code",
   "execution_count": 26,
   "id": "e776c716",
   "metadata": {
    "execution": {
     "iopub.execute_input": "2022-09-06T14:30:00.271138Z",
     "iopub.status.busy": "2022-09-06T14:30:00.270094Z",
     "iopub.status.idle": "2022-09-06T14:30:00.275172Z",
     "shell.execute_reply": "2022-09-06T14:30:00.274252Z"
    },
    "papermill": {
     "duration": 0.023361,
     "end_time": "2022-09-06T14:30:00.277457",
     "exception": false,
     "start_time": "2022-09-06T14:30:00.254096",
     "status": "completed"
    },
    "tags": []
   },
   "outputs": [],
   "source": [
    "#s = stories['content'].iloc[4]"
   ]
  },
  {
   "cell_type": "code",
   "execution_count": 27,
   "id": "7f4eec00",
   "metadata": {
    "execution": {
     "iopub.execute_input": "2022-09-06T14:30:00.308914Z",
     "iopub.status.busy": "2022-09-06T14:30:00.308534Z",
     "iopub.status.idle": "2022-09-06T14:30:00.313333Z",
     "shell.execute_reply": "2022-09-06T14:30:00.312139Z"
    },
    "papermill": {
     "duration": 0.023065,
     "end_time": "2022-09-06T14:30:00.315498",
     "exception": false,
     "start_time": "2022-09-06T14:30:00.292433",
     "status": "completed"
    },
    "tags": []
   },
   "outputs": [],
   "source": [
    "#story_test_bow = cv.transform(s.split()).toarray()"
   ]
  },
  {
   "cell_type": "code",
   "execution_count": 28,
   "id": "4b09f3df",
   "metadata": {
    "execution": {
     "iopub.execute_input": "2022-09-06T14:30:00.347800Z",
     "iopub.status.busy": "2022-09-06T14:30:00.346785Z",
     "iopub.status.idle": "2022-09-06T14:30:00.350855Z",
     "shell.execute_reply": "2022-09-06T14:30:00.350081Z"
    },
    "papermill": {
     "duration": 0.022435,
     "end_time": "2022-09-06T14:30:00.352856",
     "exception": false,
     "start_time": "2022-09-06T14:30:00.330421",
     "status": "completed"
    },
    "tags": []
   },
   "outputs": [],
   "source": [
    "#story_pred = rf.predict(story_test_bow)"
   ]
  },
  {
   "cell_type": "code",
   "execution_count": 29,
   "id": "6098e9b8",
   "metadata": {
    "execution": {
     "iopub.execute_input": "2022-09-06T14:30:00.384602Z",
     "iopub.status.busy": "2022-09-06T14:30:00.383852Z",
     "iopub.status.idle": "2022-09-06T14:30:00.388827Z",
     "shell.execute_reply": "2022-09-06T14:30:00.387742Z"
    },
    "papermill": {
     "duration": 0.023139,
     "end_time": "2022-09-06T14:30:00.390937",
     "exception": false,
     "start_time": "2022-09-06T14:30:00.367798",
     "status": "completed"
    },
    "tags": []
   },
   "outputs": [],
   "source": [
    "#story_pred[1]"
   ]
  },
  {
   "cell_type": "code",
   "execution_count": 30,
   "id": "c6a7ae87",
   "metadata": {
    "execution": {
     "iopub.execute_input": "2022-09-06T14:30:00.422507Z",
     "iopub.status.busy": "2022-09-06T14:30:00.422079Z",
     "iopub.status.idle": "2022-09-06T14:30:00.426991Z",
     "shell.execute_reply": "2022-09-06T14:30:00.425796Z"
    },
    "papermill": {
     "duration": 0.023555,
     "end_time": "2022-09-06T14:30:00.429471",
     "exception": false,
     "start_time": "2022-09-06T14:30:00.405916",
     "status": "completed"
    },
    "tags": []
   },
   "outputs": [],
   "source": [
    "#s = stories.iloc[5].content"
   ]
  },
  {
   "cell_type": "markdown",
   "id": "32738007",
   "metadata": {
    "papermill": {
     "duration": 0.014693,
     "end_time": "2022-09-06T14:30:00.459329",
     "exception": false,
     "start_time": "2022-09-06T14:30:00.444636",
     "status": "completed"
    },
    "tags": []
   },
   "source": [
    "## Recommedation logic"
   ]
  },
  {
   "cell_type": "code",
   "execution_count": 31,
   "id": "411c4b2c",
   "metadata": {
    "execution": {
     "iopub.execute_input": "2022-09-06T14:30:00.492015Z",
     "iopub.status.busy": "2022-09-06T14:30:00.491322Z",
     "iopub.status.idle": "2022-09-06T14:30:00.497334Z",
     "shell.execute_reply": "2022-09-06T14:30:00.496223Z"
    },
    "papermill": {
     "duration": 0.024572,
     "end_time": "2022-09-06T14:30:00.499498",
     "exception": false,
     "start_time": "2022-09-06T14:30:00.474926",
     "status": "completed"
    },
    "tags": []
   },
   "outputs": [],
   "source": [
    "from sklearn.feature_extraction.text import TfidfVectorizer\n",
    "from sklearn.feature_extraction import text\n",
    "from sklearn.metrics.pairwise import cosine_similarity\n",
    "import numpy as np\n",
    "import pandas as pd"
   ]
  },
  {
   "cell_type": "code",
   "execution_count": 32,
   "id": "a10c203b",
   "metadata": {
    "execution": {
     "iopub.execute_input": "2022-09-06T14:30:00.531799Z",
     "iopub.status.busy": "2022-09-06T14:30:00.531420Z",
     "iopub.status.idle": "2022-09-06T14:30:00.890032Z",
     "shell.execute_reply": "2022-09-06T14:30:00.889057Z"
    },
    "papermill": {
     "duration": 0.378092,
     "end_time": "2022-09-06T14:30:00.892588",
     "exception": false,
     "start_time": "2022-09-06T14:30:00.514496",
     "status": "completed"
    },
    "tags": []
   },
   "outputs": [],
   "source": [
    " df_recos = pd.DataFrame(\n",
    "        columns=[\n",
    "            \"bookno\",\n",
    "            \"first_reco\",\n",
    "            \"second_reco\",\n",
    "            \"third_reco\",\n",
    "            \"fourth_reco\",\n",
    "            \"fifth_reco\",\n",
    "        ]\n",
    "    )\n",
    "# stories = pd.read_csv('../input/stories-combined/stories_combined.csv')\n",
    "stories = pd.read_csv('files/stories_combined.csv')\n",
    "\n",
    "def recomendation():   \n",
    "    my_stop_words = text.ENGLISH_STOP_WORDS.union(\n",
    "        [\n",
    "            \"gutenberg\",\n",
    "            \"ebook\",\n",
    "            \"online\",\n",
    "            \"distributed\",\n",
    "            \"transcriber\",\n",
    "            \"etext\",\n",
    "            \"note\",\n",
    "            \"copyright\",\n",
    "            \"start\",\n",
    "            \"project\",\n",
    "            \"end\",\n",
    "            \"produced\",\n",
    "            \"proofreading\",\n",
    "            \"team\",\n",
    "            \"http\",\n",
    "            \"www\",\n",
    "            \"pgdp\",\n",
    "            \"net\",\n",
    "            \"illustrated\",\n",
    "        ]\n",
    "    )\n",
    "    vectorizer = TfidfVectorizer(stop_words=my_stop_words)\n",
    "    vectorizer.fit(stories[\"content\"])\n",
    "    X_vector = vectorizer.transform(stories[\"content\"])\n",
    "    similarity_matrix = cosine_similarity(X_vector)\n",
    "    df_recos[\"bookno\"] = np.array(stories[\"bookno\"])\n",
    "    i = 0\n",
    "    while i <= df_recos.shape[0] - 1:\n",
    "\n",
    "        df_recos.iloc[i] = np.take(\n",
    "            np.array(stories[\"bookno\"]), np.argsort(similarity_matrix)[:, -1:-7:-1][i]\n",
    "        )\n",
    "        i += 1\n",
    "    return \"Recommendations done\"\n"
   ]
  },
  {
   "cell_type": "code",
   "execution_count": 33,
   "id": "4925dc8d",
   "metadata": {
    "execution": {
     "iopub.execute_input": "2022-09-06T14:30:00.925418Z",
     "iopub.status.busy": "2022-09-06T14:30:00.924303Z",
     "iopub.status.idle": "2022-09-06T14:30:10.186675Z",
     "shell.execute_reply": "2022-09-06T14:30:10.185489Z"
    },
    "papermill": {
     "duration": 9.281225,
     "end_time": "2022-09-06T14:30:10.189098",
     "exception": false,
     "start_time": "2022-09-06T14:30:00.907873",
     "status": "completed"
    },
    "tags": []
   },
   "outputs": [
    {
     "data": {
      "text/plain": [
       "'Recommendations done'"
      ]
     },
     "execution_count": 33,
     "metadata": {},
     "output_type": "execute_result"
    }
   ],
   "source": [
    "recomendation()"
   ]
  },
  {
   "cell_type": "code",
   "execution_count": 34,
   "id": "391a59ed",
   "metadata": {
    "execution": {
     "iopub.execute_input": "2022-09-06T14:30:10.220661Z",
     "iopub.status.busy": "2022-09-06T14:30:10.220263Z",
     "iopub.status.idle": "2022-09-06T14:30:10.236440Z",
     "shell.execute_reply": "2022-09-06T14:30:10.235263Z"
    },
    "papermill": {
     "duration": 0.035128,
     "end_time": "2022-09-06T14:30:10.239094",
     "exception": false,
     "start_time": "2022-09-06T14:30:10.203966",
     "status": "completed"
    },
    "tags": []
   },
   "outputs": [
    {
     "data": {
      "text/html": [
       "<div>\n",
       "<style scoped>\n",
       "    .dataframe tbody tr th:only-of-type {\n",
       "        vertical-align: middle;\n",
       "    }\n",
       "\n",
       "    .dataframe tbody tr th {\n",
       "        vertical-align: top;\n",
       "    }\n",
       "\n",
       "    .dataframe thead th {\n",
       "        text-align: right;\n",
       "    }\n",
       "</style>\n",
       "<table border=\"1\" class=\"dataframe\">\n",
       "  <thead>\n",
       "    <tr style=\"text-align: right;\">\n",
       "      <th></th>\n",
       "      <th>bookno</th>\n",
       "      <th>first_reco</th>\n",
       "      <th>second_reco</th>\n",
       "      <th>third_reco</th>\n",
       "      <th>fourth_reco</th>\n",
       "      <th>fifth_reco</th>\n",
       "    </tr>\n",
       "  </thead>\n",
       "  <tbody>\n",
       "    <tr>\n",
       "      <th>0</th>\n",
       "      <td>51082.txt</td>\n",
       "      <td>3254.txt</td>\n",
       "      <td>45964-8.txt</td>\n",
       "      <td>15667-8.txt</td>\n",
       "      <td>9363-8.txt</td>\n",
       "      <td>32101-8.txt</td>\n",
       "    </tr>\n",
       "    <tr>\n",
       "      <th>1</th>\n",
       "      <td>32243.txt</td>\n",
       "      <td>15667-8.txt</td>\n",
       "      <td>3254.txt</td>\n",
       "      <td>45964-8.txt</td>\n",
       "      <td>2814-0.txt</td>\n",
       "      <td>1646-8.txt</td>\n",
       "    </tr>\n",
       "    <tr>\n",
       "      <th>2</th>\n",
       "      <td>306-0.txt</td>\n",
       "      <td>3254.txt</td>\n",
       "      <td>45964-8.txt</td>\n",
       "      <td>9363-8.txt</td>\n",
       "      <td>28636-8.txt</td>\n",
       "      <td>15667-8.txt</td>\n",
       "    </tr>\n",
       "    <tr>\n",
       "      <th>3</th>\n",
       "      <td>31038.txt</td>\n",
       "      <td>9363-8.txt</td>\n",
       "      <td>3254.txt</td>\n",
       "      <td>15667-8.txt</td>\n",
       "      <td>1646-8.txt</td>\n",
       "      <td>43558-0.txt</td>\n",
       "    </tr>\n",
       "    <tr>\n",
       "      <th>4</th>\n",
       "      <td>28636-8.txt</td>\n",
       "      <td>3254.txt</td>\n",
       "      <td>45964-8.txt</td>\n",
       "      <td>13260-0.txt</td>\n",
       "      <td>15667-8.txt</td>\n",
       "      <td>5835-0.txt</td>\n",
       "    </tr>\n",
       "    <tr>\n",
       "      <th>...</th>\n",
       "      <td>...</td>\n",
       "      <td>...</td>\n",
       "      <td>...</td>\n",
       "      <td>...</td>\n",
       "      <td>...</td>\n",
       "      <td>...</td>\n",
       "    </tr>\n",
       "    <tr>\n",
       "      <th>124</th>\n",
       "      <td>7114-8.txt</td>\n",
       "      <td>45964-8.txt</td>\n",
       "      <td>3254.txt</td>\n",
       "      <td>3077-0.txt</td>\n",
       "      <td>13260-0.txt</td>\n",
       "      <td>28636-8.txt</td>\n",
       "    </tr>\n",
       "    <tr>\n",
       "      <th>125</th>\n",
       "      <td>3077-0.txt</td>\n",
       "      <td>10577-8.txt</td>\n",
       "      <td>45964-8.txt</td>\n",
       "      <td>3254.txt</td>\n",
       "      <td>15667-8.txt</td>\n",
       "      <td>13260-0.txt</td>\n",
       "    </tr>\n",
       "    <tr>\n",
       "      <th>126</th>\n",
       "      <td>1096.txt</td>\n",
       "      <td>1655.txt</td>\n",
       "      <td>710.txt</td>\n",
       "      <td>32101-8.txt</td>\n",
       "      <td>45964-8.txt</td>\n",
       "      <td>12336-8.txt</td>\n",
       "    </tr>\n",
       "    <tr>\n",
       "      <th>127</th>\n",
       "      <td>59157.txt</td>\n",
       "      <td>51687.txt</td>\n",
       "      <td>45964-8.txt</td>\n",
       "      <td>3254.txt</td>\n",
       "      <td>15667-8.txt</td>\n",
       "      <td>9363-8.txt</td>\n",
       "    </tr>\n",
       "    <tr>\n",
       "      <th>128</th>\n",
       "      <td>12336-8.txt</td>\n",
       "      <td>710.txt</td>\n",
       "      <td>45964-8.txt</td>\n",
       "      <td>32101-8.txt</td>\n",
       "      <td>1655.txt</td>\n",
       "      <td>3254.txt</td>\n",
       "    </tr>\n",
       "  </tbody>\n",
       "</table>\n",
       "<p>129 rows × 6 columns</p>\n",
       "</div>"
      ],
      "text/plain": [
       "          bookno   first_reco  second_reco   third_reco  fourth_reco  \\\n",
       "0      51082.txt     3254.txt  45964-8.txt  15667-8.txt   9363-8.txt   \n",
       "1      32243.txt  15667-8.txt     3254.txt  45964-8.txt   2814-0.txt   \n",
       "2      306-0.txt     3254.txt  45964-8.txt   9363-8.txt  28636-8.txt   \n",
       "3      31038.txt   9363-8.txt     3254.txt  15667-8.txt   1646-8.txt   \n",
       "4    28636-8.txt     3254.txt  45964-8.txt  13260-0.txt  15667-8.txt   \n",
       "..           ...          ...          ...          ...          ...   \n",
       "124   7114-8.txt  45964-8.txt     3254.txt   3077-0.txt  13260-0.txt   \n",
       "125   3077-0.txt  10577-8.txt  45964-8.txt     3254.txt  15667-8.txt   \n",
       "126     1096.txt     1655.txt      710.txt  32101-8.txt  45964-8.txt   \n",
       "127    59157.txt    51687.txt  45964-8.txt     3254.txt  15667-8.txt   \n",
       "128  12336-8.txt      710.txt  45964-8.txt  32101-8.txt     1655.txt   \n",
       "\n",
       "      fifth_reco  \n",
       "0    32101-8.txt  \n",
       "1     1646-8.txt  \n",
       "2    15667-8.txt  \n",
       "3    43558-0.txt  \n",
       "4     5835-0.txt  \n",
       "..           ...  \n",
       "124  28636-8.txt  \n",
       "125  13260-0.txt  \n",
       "126  12336-8.txt  \n",
       "127   9363-8.txt  \n",
       "128     3254.txt  \n",
       "\n",
       "[129 rows x 6 columns]"
      ]
     },
     "execution_count": 34,
     "metadata": {},
     "output_type": "execute_result"
    }
   ],
   "source": [
    "df_recos"
   ]
  },
  {
   "cell_type": "code",
   "execution_count": 35,
   "id": "38ebe468",
   "metadata": {
    "execution": {
     "iopub.execute_input": "2022-09-06T14:30:10.271447Z",
     "iopub.status.busy": "2022-09-06T14:30:10.271030Z",
     "iopub.status.idle": "2022-09-06T14:30:10.298895Z",
     "shell.execute_reply": "2022-09-06T14:30:10.297654Z"
    },
    "papermill": {
     "duration": 0.047033,
     "end_time": "2022-09-06T14:30:10.301437",
     "exception": false,
     "start_time": "2022-09-06T14:30:10.254404",
     "status": "completed"
    },
    "tags": []
   },
   "outputs": [
    {
     "data": {
      "text/html": [
       "<div>\n",
       "<style scoped>\n",
       "    .dataframe tbody tr th:only-of-type {\n",
       "        vertical-align: middle;\n",
       "    }\n",
       "\n",
       "    .dataframe tbody tr th {\n",
       "        vertical-align: top;\n",
       "    }\n",
       "\n",
       "    .dataframe thead th {\n",
       "        text-align: right;\n",
       "    }\n",
       "</style>\n",
       "<table border=\"1\" class=\"dataframe\">\n",
       "  <thead>\n",
       "    <tr style=\"text-align: right;\">\n",
       "      <th>bookno</th>\n",
       "      <th>51082.txt</th>\n",
       "      <th>32243.txt</th>\n",
       "      <th>306-0.txt</th>\n",
       "      <th>31038.txt</th>\n",
       "      <th>28636-8.txt</th>\n",
       "      <th>6258.txt</th>\n",
       "      <th>23210-0.txt</th>\n",
       "      <th>51531.txt</th>\n",
       "      <th>3250-0.txt</th>\n",
       "      <th>52776.txt</th>\n",
       "      <th>...</th>\n",
       "      <th>34470-8.txt</th>\n",
       "      <th>5592.txt</th>\n",
       "      <th>512.txt</th>\n",
       "      <th>43558-0.txt</th>\n",
       "      <th>59345.txt</th>\n",
       "      <th>7114-8.txt</th>\n",
       "      <th>3077-0.txt</th>\n",
       "      <th>1096.txt</th>\n",
       "      <th>59157.txt</th>\n",
       "      <th>12336-8.txt</th>\n",
       "    </tr>\n",
       "  </thead>\n",
       "  <tbody>\n",
       "    <tr>\n",
       "      <th>first_reco</th>\n",
       "      <td>3254.txt</td>\n",
       "      <td>15667-8.txt</td>\n",
       "      <td>3254.txt</td>\n",
       "      <td>9363-8.txt</td>\n",
       "      <td>3254.txt</td>\n",
       "      <td>6259.txt</td>\n",
       "      <td>15667-8.txt</td>\n",
       "      <td>3254.txt</td>\n",
       "      <td>15667-8.txt</td>\n",
       "      <td>13707-8.txt</td>\n",
       "      <td>...</td>\n",
       "      <td>3254.txt</td>\n",
       "      <td>13707-8.txt</td>\n",
       "      <td>13707-8.txt</td>\n",
       "      <td>3254.txt</td>\n",
       "      <td>45964-8.txt</td>\n",
       "      <td>45964-8.txt</td>\n",
       "      <td>10577-8.txt</td>\n",
       "      <td>1655.txt</td>\n",
       "      <td>51687.txt</td>\n",
       "      <td>710.txt</td>\n",
       "    </tr>\n",
       "    <tr>\n",
       "      <th>second_reco</th>\n",
       "      <td>45964-8.txt</td>\n",
       "      <td>3254.txt</td>\n",
       "      <td>45964-8.txt</td>\n",
       "      <td>3254.txt</td>\n",
       "      <td>45964-8.txt</td>\n",
       "      <td>45964-8.txt</td>\n",
       "      <td>16380-8.txt</td>\n",
       "      <td>15667-8.txt</td>\n",
       "      <td>3254.txt</td>\n",
       "      <td>15667-8.txt</td>\n",
       "      <td>...</td>\n",
       "      <td>28636-8.txt</td>\n",
       "      <td>45964-8.txt</td>\n",
       "      <td>2148-0.txt</td>\n",
       "      <td>15667-8.txt</td>\n",
       "      <td>15667-8.txt</td>\n",
       "      <td>3254.txt</td>\n",
       "      <td>45964-8.txt</td>\n",
       "      <td>710.txt</td>\n",
       "      <td>45964-8.txt</td>\n",
       "      <td>45964-8.txt</td>\n",
       "    </tr>\n",
       "    <tr>\n",
       "      <th>third_reco</th>\n",
       "      <td>15667-8.txt</td>\n",
       "      <td>45964-8.txt</td>\n",
       "      <td>9363-8.txt</td>\n",
       "      <td>15667-8.txt</td>\n",
       "      <td>13260-0.txt</td>\n",
       "      <td>3254.txt</td>\n",
       "      <td>13441-8.txt</td>\n",
       "      <td>1646-8.txt</td>\n",
       "      <td>1646-8.txt</td>\n",
       "      <td>3254.txt</td>\n",
       "      <td>...</td>\n",
       "      <td>15667-8.txt</td>\n",
       "      <td>3254.txt</td>\n",
       "      <td>45964-8.txt</td>\n",
       "      <td>49913-0.txt</td>\n",
       "      <td>1646-8.txt</td>\n",
       "      <td>3077-0.txt</td>\n",
       "      <td>3254.txt</td>\n",
       "      <td>32101-8.txt</td>\n",
       "      <td>3254.txt</td>\n",
       "      <td>32101-8.txt</td>\n",
       "    </tr>\n",
       "    <tr>\n",
       "      <th>fourth_reco</th>\n",
       "      <td>9363-8.txt</td>\n",
       "      <td>2814-0.txt</td>\n",
       "      <td>28636-8.txt</td>\n",
       "      <td>1646-8.txt</td>\n",
       "      <td>15667-8.txt</td>\n",
       "      <td>15667-8.txt</td>\n",
       "      <td>3254.txt</td>\n",
       "      <td>13441-8.txt</td>\n",
       "      <td>45964-8.txt</td>\n",
       "      <td>1646-8.txt</td>\n",
       "      <td>...</td>\n",
       "      <td>5835-0.txt</td>\n",
       "      <td>13260-0.txt</td>\n",
       "      <td>3254.txt</td>\n",
       "      <td>5835-0.txt</td>\n",
       "      <td>3254.txt</td>\n",
       "      <td>13260-0.txt</td>\n",
       "      <td>15667-8.txt</td>\n",
       "      <td>45964-8.txt</td>\n",
       "      <td>15667-8.txt</td>\n",
       "      <td>1655.txt</td>\n",
       "    </tr>\n",
       "    <tr>\n",
       "      <th>fifth_reco</th>\n",
       "      <td>32101-8.txt</td>\n",
       "      <td>1646-8.txt</td>\n",
       "      <td>15667-8.txt</td>\n",
       "      <td>43558-0.txt</td>\n",
       "      <td>5835-0.txt</td>\n",
       "      <td>13260-0.txt</td>\n",
       "      <td>49913-0.txt</td>\n",
       "      <td>9363-8.txt</td>\n",
       "      <td>9363-8.txt</td>\n",
       "      <td>9363-8.txt</td>\n",
       "      <td>...</td>\n",
       "      <td>9363-8.txt</td>\n",
       "      <td>10577-8.txt</td>\n",
       "      <td>13260-0.txt</td>\n",
       "      <td>2814-0.txt</td>\n",
       "      <td>16380-8.txt</td>\n",
       "      <td>28636-8.txt</td>\n",
       "      <td>13260-0.txt</td>\n",
       "      <td>12336-8.txt</td>\n",
       "      <td>9363-8.txt</td>\n",
       "      <td>3254.txt</td>\n",
       "    </tr>\n",
       "  </tbody>\n",
       "</table>\n",
       "<p>5 rows × 129 columns</p>\n",
       "</div>"
      ],
      "text/plain": [
       "bookno         51082.txt    32243.txt    306-0.txt    31038.txt  28636-8.txt  \\\n",
       "first_reco      3254.txt  15667-8.txt     3254.txt   9363-8.txt     3254.txt   \n",
       "second_reco  45964-8.txt     3254.txt  45964-8.txt     3254.txt  45964-8.txt   \n",
       "third_reco   15667-8.txt  45964-8.txt   9363-8.txt  15667-8.txt  13260-0.txt   \n",
       "fourth_reco   9363-8.txt   2814-0.txt  28636-8.txt   1646-8.txt  15667-8.txt   \n",
       "fifth_reco   32101-8.txt   1646-8.txt  15667-8.txt  43558-0.txt   5835-0.txt   \n",
       "\n",
       "bookno          6258.txt  23210-0.txt    51531.txt   3250-0.txt    52776.txt  \\\n",
       "first_reco      6259.txt  15667-8.txt     3254.txt  15667-8.txt  13707-8.txt   \n",
       "second_reco  45964-8.txt  16380-8.txt  15667-8.txt     3254.txt  15667-8.txt   \n",
       "third_reco      3254.txt  13441-8.txt   1646-8.txt   1646-8.txt     3254.txt   \n",
       "fourth_reco  15667-8.txt     3254.txt  13441-8.txt  45964-8.txt   1646-8.txt   \n",
       "fifth_reco   13260-0.txt  49913-0.txt   9363-8.txt   9363-8.txt   9363-8.txt   \n",
       "\n",
       "bookno       ...  34470-8.txt     5592.txt      512.txt  43558-0.txt  \\\n",
       "first_reco   ...     3254.txt  13707-8.txt  13707-8.txt     3254.txt   \n",
       "second_reco  ...  28636-8.txt  45964-8.txt   2148-0.txt  15667-8.txt   \n",
       "third_reco   ...  15667-8.txt     3254.txt  45964-8.txt  49913-0.txt   \n",
       "fourth_reco  ...   5835-0.txt  13260-0.txt     3254.txt   5835-0.txt   \n",
       "fifth_reco   ...   9363-8.txt  10577-8.txt  13260-0.txt   2814-0.txt   \n",
       "\n",
       "bookno         59345.txt   7114-8.txt   3077-0.txt     1096.txt    59157.txt  \\\n",
       "first_reco   45964-8.txt  45964-8.txt  10577-8.txt     1655.txt    51687.txt   \n",
       "second_reco  15667-8.txt     3254.txt  45964-8.txt      710.txt  45964-8.txt   \n",
       "third_reco    1646-8.txt   3077-0.txt     3254.txt  32101-8.txt     3254.txt   \n",
       "fourth_reco     3254.txt  13260-0.txt  15667-8.txt  45964-8.txt  15667-8.txt   \n",
       "fifth_reco   16380-8.txt  28636-8.txt  13260-0.txt  12336-8.txt   9363-8.txt   \n",
       "\n",
       "bookno       12336-8.txt  \n",
       "first_reco       710.txt  \n",
       "second_reco  45964-8.txt  \n",
       "third_reco   32101-8.txt  \n",
       "fourth_reco     1655.txt  \n",
       "fifth_reco      3254.txt  \n",
       "\n",
       "[5 rows x 129 columns]"
      ]
     },
     "execution_count": 35,
     "metadata": {},
     "output_type": "execute_result"
    }
   ],
   "source": [
    "df_recos.set_index('bookno').T"
   ]
  },
  {
   "cell_type": "code",
   "execution_count": 36,
   "id": "821ff513",
   "metadata": {
    "execution": {
     "iopub.execute_input": "2022-09-06T14:30:10.335309Z",
     "iopub.status.busy": "2022-09-06T14:30:10.334515Z",
     "iopub.status.idle": "2022-09-06T14:30:10.349077Z",
     "shell.execute_reply": "2022-09-06T14:30:10.348153Z"
    },
    "papermill": {
     "duration": 0.034213,
     "end_time": "2022-09-06T14:30:10.351534",
     "exception": false,
     "start_time": "2022-09-06T14:30:10.317321",
     "status": "completed"
    },
    "tags": []
   },
   "outputs": [],
   "source": [
    "recomendations_dict = df_recos.set_index('bookno').T.to_dict('list')"
   ]
  },
  {
   "cell_type": "code",
   "execution_count": 37,
   "id": "cda7430f",
   "metadata": {
    "execution": {
     "iopub.execute_input": "2022-09-06T14:30:10.385372Z",
     "iopub.status.busy": "2022-09-06T14:30:10.384585Z",
     "iopub.status.idle": "2022-09-06T14:30:10.389446Z",
     "shell.execute_reply": "2022-09-06T14:30:10.388666Z"
    },
    "papermill": {
     "duration": 0.024216,
     "end_time": "2022-09-06T14:30:10.391642",
     "exception": false,
     "start_time": "2022-09-06T14:30:10.367426",
     "status": "completed"
    },
    "tags": []
   },
   "outputs": [],
   "source": [
    "import pickle"
   ]
  },
  {
   "cell_type": "code",
   "execution_count": 38,
   "id": "2179a023",
   "metadata": {
    "execution": {
     "iopub.execute_input": "2022-09-06T14:30:10.425398Z",
     "iopub.status.busy": "2022-09-06T14:30:10.424599Z",
     "iopub.status.idle": "2022-09-06T14:30:10.430056Z",
     "shell.execute_reply": "2022-09-06T14:30:10.429252Z"
    },
    "papermill": {
     "duration": 0.025053,
     "end_time": "2022-09-06T14:30:10.432387",
     "exception": false,
     "start_time": "2022-09-06T14:30:10.407334",
     "status": "completed"
    },
    "tags": []
   },
   "outputs": [],
   "source": [
    "with open('files/saved_recomendations.pkl', 'wb') as f:\n",
    "    pickle.dump(recomendations_dict, f)"
   ]
  },
  {
   "cell_type": "code",
   "execution_count": 39,
   "id": "979d90c7",
   "metadata": {
    "_kg_hide-input": true,
    "execution": {
     "iopub.execute_input": "2022-09-06T14:30:10.466409Z",
     "iopub.status.busy": "2022-09-06T14:30:10.465324Z",
     "iopub.status.idle": "2022-09-06T14:30:10.470999Z",
     "shell.execute_reply": "2022-09-06T14:30:10.470232Z"
    },
    "papermill": {
     "duration": 0.025,
     "end_time": "2022-09-06T14:30:10.473285",
     "exception": false,
     "start_time": "2022-09-06T14:30:10.448285",
     "status": "completed"
    },
    "tags": []
   },
   "outputs": [],
   "source": [
    "with open('files/saved_recomendations.pkl', 'rb') as f:\n",
    "    loaded_dict = pickle.load(f)"
   ]
  },
  {
   "cell_type": "code",
   "execution_count": 40,
   "id": "5aea74e0",
   "metadata": {
    "execution": {
     "iopub.execute_input": "2022-09-06T14:30:10.507432Z",
     "iopub.status.busy": "2022-09-06T14:30:10.506932Z",
     "iopub.status.idle": "2022-09-06T14:30:10.514341Z",
     "shell.execute_reply": "2022-09-06T14:30:10.513074Z"
    },
    "papermill": {
     "duration": 0.027622,
     "end_time": "2022-09-06T14:30:10.516712",
     "exception": false,
     "start_time": "2022-09-06T14:30:10.489090",
     "status": "completed"
    },
    "tags": []
   },
   "outputs": [
    {
     "data": {
      "text/plain": [
       "['3254.txt', '45964-8.txt', '15667-8.txt', '9363-8.txt', '32101-8.txt']"
      ]
     },
     "execution_count": 40,
     "metadata": {},
     "output_type": "execute_result"
    }
   ],
   "source": [
    "loaded_dict['51082.txt']"
   ]
  },
  {
   "cell_type": "code",
   "execution_count": 41,
   "id": "93e40e3f",
   "metadata": {
    "execution": {
     "iopub.execute_input": "2022-09-06T14:30:10.551728Z",
     "iopub.status.busy": "2022-09-06T14:30:10.551068Z",
     "iopub.status.idle": "2022-09-06T14:30:10.587441Z",
     "shell.execute_reply": "2022-09-06T14:30:10.586495Z"
    },
    "papermill": {
     "duration": 0.056475,
     "end_time": "2022-09-06T14:30:10.589630",
     "exception": false,
     "start_time": "2022-09-06T14:30:10.533155",
     "status": "completed"
    },
    "tags": []
   },
   "outputs": [
    {
     "data": {
      "text/html": [
       "<div>\n",
       "<style scoped>\n",
       "    .dataframe tbody tr th:only-of-type {\n",
       "        vertical-align: middle;\n",
       "    }\n",
       "\n",
       "    .dataframe tbody tr th {\n",
       "        vertical-align: top;\n",
       "    }\n",
       "\n",
       "    .dataframe thead th {\n",
       "        text-align: right;\n",
       "    }\n",
       "</style>\n",
       "<table border=\"1\" class=\"dataframe\">\n",
       "  <thead>\n",
       "    <tr style=\"text-align: right;\">\n",
       "      <th></th>\n",
       "      <th>Unnamed: 0</th>\n",
       "      <th>bookno</th>\n",
       "      <th>content</th>\n",
       "      <th>Title</th>\n",
       "      <th>Author</th>\n",
       "      <th>Language</th>\n",
       "      <th>Category</th>\n",
       "    </tr>\n",
       "  </thead>\n",
       "  <tbody>\n",
       "    <tr>\n",
       "      <th>0</th>\n",
       "      <td>0</td>\n",
       "      <td>51082.txt</td>\n",
       "      <td>*** START OF THIS PROJECT GUTENBERG EBOOK COMI...</td>\n",
       "      <td>Coming Attraction</td>\n",
       "      <td>Fritz Leiber</td>\n",
       "      <td>English</td>\n",
       "      <td>Science Fiction</td>\n",
       "    </tr>\n",
       "    <tr>\n",
       "      <th>1</th>\n",
       "      <td>1</td>\n",
       "      <td>32243.txt</td>\n",
       "      <td>*** START OF THIS PROJECT GUTENBERG EBOOK CONF...</td>\n",
       "      <td>Confidence Game</td>\n",
       "      <td>James McKimmey</td>\n",
       "      <td>English</td>\n",
       "      <td>Science Fiction</td>\n",
       "    </tr>\n",
       "    <tr>\n",
       "      <th>2</th>\n",
       "      <td>2</td>\n",
       "      <td>306-0.txt</td>\n",
       "      <td>*** START OF THIS PROJECT GUTENBERG EBOOK EARL...</td>\n",
       "      <td>The Early Short Fiction of Edith Wharton, Par...</td>\n",
       "      <td>Edith Wharton</td>\n",
       "      <td>English</td>\n",
       "      <td>Fiction</td>\n",
       "    </tr>\n",
       "    <tr>\n",
       "      <th>3</th>\n",
       "      <td>3</td>\n",
       "      <td>31038.txt</td>\n",
       "      <td>*** START OF THIS PROJECT GUTENBERG EBOOK THE ...</td>\n",
       "      <td>The Real Hard Sell</td>\n",
       "      <td>William W Stuart</td>\n",
       "      <td>English</td>\n",
       "      <td>Science Fiction</td>\n",
       "    </tr>\n",
       "    <tr>\n",
       "      <th>4</th>\n",
       "      <td>4</td>\n",
       "      <td>28636-8.txt</td>\n",
       "      <td>*** START OF THIS PROJECT GUTENBERG EBOOK THE ...</td>\n",
       "      <td>The Grey Woman and other Tales</td>\n",
       "      <td>Mrs. (Elizabeth) Gaskell</td>\n",
       "      <td>English</td>\n",
       "      <td>Fiction</td>\n",
       "    </tr>\n",
       "    <tr>\n",
       "      <th>...</th>\n",
       "      <td>...</td>\n",
       "      <td>...</td>\n",
       "      <td>...</td>\n",
       "      <td>...</td>\n",
       "      <td>...</td>\n",
       "      <td>...</td>\n",
       "      <td>...</td>\n",
       "    </tr>\n",
       "    <tr>\n",
       "      <th>124</th>\n",
       "      <td>124</td>\n",
       "      <td>7114-8.txt</td>\n",
       "      <td>*** START OF THIS PROJECT GUTENBERG EBOOK UNE ...</td>\n",
       "      <td>Une Vie, A Piece of String and Other Stories</td>\n",
       "      <td>Guy de Maupassant</td>\n",
       "      <td>English</td>\n",
       "      <td>Fiction</td>\n",
       "    </tr>\n",
       "    <tr>\n",
       "      <th>125</th>\n",
       "      <td>125</td>\n",
       "      <td>3077-0.txt</td>\n",
       "      <td>*** START OF THIS PROJECT GUTENBERG EBOOK MAUP...</td>\n",
       "      <td>Original Short Stories of Maupassant, Volume 1</td>\n",
       "      <td>Guy de Maupassant</td>\n",
       "      <td>English</td>\n",
       "      <td>Fiction</td>\n",
       "    </tr>\n",
       "    <tr>\n",
       "      <th>126</th>\n",
       "      <td>126</td>\n",
       "      <td>1096.txt</td>\n",
       "      <td>The Project Gutenberg Etext of The Faith of Me...</td>\n",
       "      <td>The Faith of Men</td>\n",
       "      <td>Jack London</td>\n",
       "      <td>English</td>\n",
       "      <td>Fiction</td>\n",
       "    </tr>\n",
       "    <tr>\n",
       "      <th>127</th>\n",
       "      <td>127</td>\n",
       "      <td>59157.txt</td>\n",
       "      <td>*** START OF THIS PROJECT GUTENBERG EBOOK ESCA...</td>\n",
       "      <td>Escape Mechanism</td>\n",
       "      <td>Charles E. Fritch</td>\n",
       "      <td>English</td>\n",
       "      <td>Science Fiction</td>\n",
       "    </tr>\n",
       "    <tr>\n",
       "      <th>128</th>\n",
       "      <td>128</td>\n",
       "      <td>12336-8.txt</td>\n",
       "      <td>*** START OF THIS PROJECT GUTENBERG EBOOK BROW...</td>\n",
       "      <td>Brown Wolf and Other Jack London Stories</td>\n",
       "      <td>Jack London</td>\n",
       "      <td>English</td>\n",
       "      <td>Fiction</td>\n",
       "    </tr>\n",
       "  </tbody>\n",
       "</table>\n",
       "<p>129 rows × 7 columns</p>\n",
       "</div>"
      ],
      "text/plain": [
       "     Unnamed: 0       bookno  \\\n",
       "0             0    51082.txt   \n",
       "1             1    32243.txt   \n",
       "2             2    306-0.txt   \n",
       "3             3    31038.txt   \n",
       "4             4  28636-8.txt   \n",
       "..          ...          ...   \n",
       "124         124   7114-8.txt   \n",
       "125         125   3077-0.txt   \n",
       "126         126     1096.txt   \n",
       "127         127    59157.txt   \n",
       "128         128  12336-8.txt   \n",
       "\n",
       "                                               content  \\\n",
       "0    *** START OF THIS PROJECT GUTENBERG EBOOK COMI...   \n",
       "1    *** START OF THIS PROJECT GUTENBERG EBOOK CONF...   \n",
       "2    *** START OF THIS PROJECT GUTENBERG EBOOK EARL...   \n",
       "3    *** START OF THIS PROJECT GUTENBERG EBOOK THE ...   \n",
       "4    *** START OF THIS PROJECT GUTENBERG EBOOK THE ...   \n",
       "..                                                 ...   \n",
       "124  *** START OF THIS PROJECT GUTENBERG EBOOK UNE ...   \n",
       "125  *** START OF THIS PROJECT GUTENBERG EBOOK MAUP...   \n",
       "126  The Project Gutenberg Etext of The Faith of Me...   \n",
       "127  *** START OF THIS PROJECT GUTENBERG EBOOK ESCA...   \n",
       "128  *** START OF THIS PROJECT GUTENBERG EBOOK BROW...   \n",
       "\n",
       "                                                 Title  \\\n",
       "0                                    Coming Attraction   \n",
       "1                                      Confidence Game   \n",
       "2     The Early Short Fiction of Edith Wharton, Par...   \n",
       "3                                   The Real Hard Sell   \n",
       "4                       The Grey Woman and other Tales   \n",
       "..                                                 ...   \n",
       "124       Une Vie, A Piece of String and Other Stories   \n",
       "125     Original Short Stories of Maupassant, Volume 1   \n",
       "126                                   The Faith of Men   \n",
       "127                                   Escape Mechanism   \n",
       "128           Brown Wolf and Other Jack London Stories   \n",
       "\n",
       "                        Author  Language         Category  \n",
       "0                 Fritz Leiber   English  Science Fiction  \n",
       "1               James McKimmey   English  Science Fiction  \n",
       "2                Edith Wharton   English          Fiction  \n",
       "3             William W Stuart   English  Science Fiction  \n",
       "4     Mrs. (Elizabeth) Gaskell   English          Fiction  \n",
       "..                         ...       ...              ...  \n",
       "124          Guy de Maupassant   English          Fiction  \n",
       "125          Guy de Maupassant   English          Fiction  \n",
       "126                Jack London   English          Fiction  \n",
       "127          Charles E. Fritch   English  Science Fiction  \n",
       "128                Jack London   English          Fiction  \n",
       "\n",
       "[129 rows x 7 columns]"
      ]
     },
     "execution_count": 41,
     "metadata": {},
     "output_type": "execute_result"
    }
   ],
   "source": [
    "stories"
   ]
  },
  {
   "cell_type": "code",
   "execution_count": 42,
   "id": "17be6bfb",
   "metadata": {
    "execution": {
     "iopub.execute_input": "2022-09-06T14:30:10.624507Z",
     "iopub.status.busy": "2022-09-06T14:30:10.623771Z",
     "iopub.status.idle": "2022-09-06T14:30:10.642516Z",
     "shell.execute_reply": "2022-09-06T14:30:10.641638Z"
    },
    "papermill": {
     "duration": 0.038763,
     "end_time": "2022-09-06T14:30:10.644844",
     "exception": false,
     "start_time": "2022-09-06T14:30:10.606081",
     "status": "completed"
    },
    "tags": []
   },
   "outputs": [],
   "source": [
    "story_dict = stories[['bookno','Title','content','Author','Category']].set_index('bookno').T.to_dict()"
   ]
  },
  {
   "cell_type": "code",
   "execution_count": 43,
   "id": "48639ee0",
   "metadata": {
    "execution": {
     "iopub.execute_input": "2022-09-06T14:30:10.679358Z",
     "iopub.status.busy": "2022-09-06T14:30:10.678921Z",
     "iopub.status.idle": "2022-09-06T14:30:10.729046Z",
     "shell.execute_reply": "2022-09-06T14:30:10.727983Z"
    },
    "papermill": {
     "duration": 0.070927,
     "end_time": "2022-09-06T14:30:10.732013",
     "exception": false,
     "start_time": "2022-09-06T14:30:10.661086",
     "status": "completed"
    },
    "tags": []
   },
   "outputs": [],
   "source": [
    "with open('files/saved_stories.pkl', 'wb') as st:\n",
    "    pickle.dump(story_dict, st)"
   ]
  },
  {
   "cell_type": "code",
   "execution_count": 44,
   "id": "62fe6c2f",
   "metadata": {
    "execution": {
     "iopub.execute_input": "2022-09-06T14:30:10.766458Z",
     "iopub.status.busy": "2022-09-06T14:30:10.765770Z",
     "iopub.status.idle": "2022-09-06T14:30:10.795970Z",
     "shell.execute_reply": "2022-09-06T14:30:10.795082Z"
    },
    "papermill": {
     "duration": 0.050129,
     "end_time": "2022-09-06T14:30:10.798499",
     "exception": false,
     "start_time": "2022-09-06T14:30:10.748370",
     "status": "completed"
    },
    "tags": []
   },
   "outputs": [],
   "source": [
    "with open('files/saved_stories.pkl', 'rb') as f:\n",
    "    loaded_stories = pickle.load(f)"
   ]
  },
  {
   "cell_type": "code",
   "execution_count": 45,
   "id": "3f1acfbe",
   "metadata": {
    "execution": {
     "iopub.execute_input": "2022-09-06T14:30:10.833082Z",
     "iopub.status.busy": "2022-09-06T14:30:10.832321Z",
     "iopub.status.idle": "2022-09-06T14:30:10.839118Z",
     "shell.execute_reply": "2022-09-06T14:30:10.838260Z"
    },
    "papermill": {
     "duration": 0.026623,
     "end_time": "2022-09-06T14:30:10.841337",
     "exception": false,
     "start_time": "2022-09-06T14:30:10.814714",
     "status": "completed"
    },
    "tags": []
   },
   "outputs": [
    {
     "data": {
      "text/plain": [
       "' Escape Mechanism'"
      ]
     },
     "execution_count": 45,
     "metadata": {},
     "output_type": "execute_result"
    }
   ],
   "source": [
    "loaded_stories['59157.txt']['Title']"
   ]
  },
  {
   "cell_type": "code",
   "execution_count": null,
   "id": "38cebd64",
   "metadata": {
    "papermill": {
     "duration": 0.015946,
     "end_time": "2022-09-06T14:30:10.873606",
     "exception": false,
     "start_time": "2022-09-06T14:30:10.857660",
     "status": "completed"
    },
    "tags": []
   },
   "outputs": [],
   "source": []
  }
 ],
 "metadata": {
  "kernelspec": {
   "display_name": "Python 3 (ipykernel)",
   "language": "python",
   "name": "python3"
  },
  "language_info": {
   "codemirror_mode": {
    "name": "ipython",
    "version": 3
   },
   "file_extension": ".py",
   "mimetype": "text/x-python",
   "name": "python",
   "nbconvert_exporter": "python",
   "pygments_lexer": "ipython3",
   "version": "3.9.12"
  },
  "papermill": {
   "default_parameters": {},
   "duration": 52.494124,
   "end_time": "2022-09-06T14:30:11.711329",
   "environment_variables": {},
   "exception": null,
   "input_path": "__notebook__.ipynb",
   "output_path": "__notebook__.ipynb",
   "parameters": {},
   "start_time": "2022-09-06T14:29:19.217205",
   "version": "2.3.4"
  }
 },
 "nbformat": 4,
 "nbformat_minor": 5
}
